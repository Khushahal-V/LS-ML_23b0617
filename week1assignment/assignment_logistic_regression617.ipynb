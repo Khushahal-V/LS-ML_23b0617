{
  "nbformat": 4,
  "nbformat_minor": 0,
  "metadata": {
    "colab": {
      "provenance": []
    },
    "kernelspec": {
      "name": "python3",
      "display_name": "Python 3"
    },
    "language_info": {
      "name": "python"
    }
  },
  "cells": [
    {
      "cell_type": "markdown",
      "source": [
        "##ASSIGNMENT\n",
        "#Dataset\n",
        "Assume you are a scientist who is trying to make a propellent and is trying many tests to make an efficient propellent .\n",
        "<br>\n",
        "You have performed two tests.\n",
        "<br>\n",
        "From the two tests you would like whether this propellent works efficiently or not.\n",
        "Build your own logistic regression model to decide .\n",
        "<br>\n",
        "Text with \"DO NOT EDIT THIS CODE\" needs to be only run do not edit it\n"
      ],
      "metadata": {
        "id": "wNEUsAHHCGk2"
      }
    },
    {
      "cell_type": "code",
      "execution_count": 1,
      "metadata": {
        "id": "xJm_XXJo4RDg"
      },
      "outputs": [],
      "source": [
        "#import libraries\n",
        "#write your code\n",
        "import numpy as np\n",
        "import matplotlib.pyplot as plt\n",
        "from sklearn.linear_model import LogisticRegression\n",
        "import math\n",
        "from sklearn.preprocessing import StandardScaler\n",
        "scaler = StandardScaler()"
      ]
    },
    {
      "cell_type": "code",
      "source": [
        "#load data\n",
        "data=np.loadtxt(\"data.txt\", delimiter=',')\n",
        "X=data[:,:2]\n",
        "y=data[:,2]\n",
        "X_train=X\n",
        "y_train=y\n",
        "data"
      ],
      "metadata": {
        "id": "YtL0jW6m4e1A",
        "outputId": "f81a8a9e-41f2-458b-f10f-81e2423661a8",
        "colab": {
          "base_uri": "https://localhost:8080/"
        }
      },
      "execution_count": 2,
      "outputs": [
        {
          "output_type": "execute_result",
          "data": {
            "text/plain": [
              "array([[ 0.051267 ,  0.69956  ,  1.       ],\n",
              "       [-0.092742 ,  0.68494  ,  1.       ],\n",
              "       [-0.21371  ,  0.69225  ,  1.       ],\n",
              "       [-0.375    ,  0.50219  ,  1.       ],\n",
              "       [-0.51325  ,  0.46564  ,  1.       ],\n",
              "       [-0.52477  ,  0.2098   ,  1.       ],\n",
              "       [-0.39804  ,  0.034357 ,  1.       ],\n",
              "       [-0.30588  , -0.19225  ,  1.       ],\n",
              "       [ 0.016705 , -0.40424  ,  1.       ],\n",
              "       [ 0.13191  , -0.51389  ,  1.       ],\n",
              "       [ 0.38537  , -0.56506  ,  1.       ],\n",
              "       [ 0.52938  , -0.5212   ,  1.       ],\n",
              "       [ 0.63882  , -0.24342  ,  1.       ],\n",
              "       [ 0.73675  , -0.18494  ,  1.       ],\n",
              "       [ 0.54666  ,  0.48757  ,  1.       ],\n",
              "       [ 0.322    ,  0.5826   ,  1.       ],\n",
              "       [ 0.16647  ,  0.53874  ,  1.       ],\n",
              "       [-0.046659 ,  0.81652  ,  1.       ],\n",
              "       [-0.17339  ,  0.69956  ,  1.       ],\n",
              "       [-0.47869  ,  0.63377  ,  1.       ],\n",
              "       [-0.60541  ,  0.59722  ,  1.       ],\n",
              "       [-0.62846  ,  0.33406  ,  1.       ],\n",
              "       [-0.59389  ,  0.005117 ,  1.       ],\n",
              "       [-0.42108  , -0.27266  ,  1.       ],\n",
              "       [-0.11578  , -0.39693  ,  1.       ],\n",
              "       [ 0.20104  , -0.60161  ,  1.       ],\n",
              "       [ 0.46601  , -0.53582  ,  1.       ],\n",
              "       [ 0.67339  , -0.53582  ,  1.       ],\n",
              "       [-0.13882  ,  0.54605  ,  1.       ],\n",
              "       [-0.29435  ,  0.77997  ,  1.       ],\n",
              "       [-0.26555  ,  0.96272  ,  1.       ],\n",
              "       [-0.16187  ,  0.8019   ,  1.       ],\n",
              "       [-0.17339  ,  0.64839  ,  1.       ],\n",
              "       [-0.28283  ,  0.47295  ,  1.       ],\n",
              "       [-0.36348  ,  0.31213  ,  1.       ],\n",
              "       [-0.30012  ,  0.027047 ,  1.       ],\n",
              "       [-0.23675  , -0.21418  ,  1.       ],\n",
              "       [-0.06394  , -0.18494  ,  1.       ],\n",
              "       [ 0.062788 , -0.16301  ,  1.       ],\n",
              "       [ 0.22984  , -0.41155  ,  1.       ],\n",
              "       [ 0.2932   , -0.2288   ,  1.       ],\n",
              "       [ 0.48329  , -0.18494  ,  1.       ],\n",
              "       [ 0.64459  , -0.14108  ,  1.       ],\n",
              "       [ 0.46025  ,  0.012427 ,  1.       ],\n",
              "       [ 0.6273   ,  0.15863  ,  1.       ],\n",
              "       [ 0.57546  ,  0.26827  ,  1.       ],\n",
              "       [ 0.72523  ,  0.44371  ,  1.       ],\n",
              "       [ 0.22408  ,  0.52412  ,  1.       ],\n",
              "       [ 0.44297  ,  0.67032  ,  1.       ],\n",
              "       [ 0.322    ,  0.69225  ,  1.       ],\n",
              "       [ 0.13767  ,  0.57529  ,  1.       ],\n",
              "       [-0.0063364,  0.39985  ,  1.       ],\n",
              "       [-0.092742 ,  0.55336  ,  1.       ],\n",
              "       [-0.20795  ,  0.35599  ,  1.       ],\n",
              "       [-0.20795  ,  0.17325  ,  1.       ],\n",
              "       [-0.43836  ,  0.21711  ,  1.       ],\n",
              "       [-0.21947  , -0.016813 ,  1.       ],\n",
              "       [-0.13882  , -0.27266  ,  1.       ],\n",
              "       [ 0.18376  ,  0.93348  ,  0.       ],\n",
              "       [ 0.22408  ,  0.77997  ,  0.       ],\n",
              "       [ 0.29896  ,  0.61915  ,  0.       ],\n",
              "       [ 0.50634  ,  0.75804  ,  0.       ],\n",
              "       [ 0.61578  ,  0.7288   ,  0.       ],\n",
              "       [ 0.60426  ,  0.59722  ,  0.       ],\n",
              "       [ 0.76555  ,  0.50219  ,  0.       ],\n",
              "       [ 0.92684  ,  0.3633   ,  0.       ],\n",
              "       [ 0.82316  ,  0.27558  ,  0.       ],\n",
              "       [ 0.96141  ,  0.085526 ,  0.       ],\n",
              "       [ 0.93836  ,  0.012427 ,  0.       ],\n",
              "       [ 0.86348  , -0.082602 ,  0.       ],\n",
              "       [ 0.89804  , -0.20687  ,  0.       ],\n",
              "       [ 0.85196  , -0.36769  ,  0.       ],\n",
              "       [ 0.82892  , -0.5212   ,  0.       ],\n",
              "       [ 0.79435  , -0.55775  ,  0.       ],\n",
              "       [ 0.59274  , -0.7405   ,  0.       ],\n",
              "       [ 0.51786  , -0.5943   ,  0.       ],\n",
              "       [ 0.46601  , -0.41886  ,  0.       ],\n",
              "       [ 0.35081  , -0.57968  ,  0.       ],\n",
              "       [ 0.28744  , -0.76974  ,  0.       ],\n",
              "       [ 0.085829 , -0.75512  ,  0.       ],\n",
              "       [ 0.14919  , -0.57968  ,  0.       ],\n",
              "       [-0.13306  , -0.4481   ,  0.       ],\n",
              "       [-0.40956  , -0.41155  ,  0.       ],\n",
              "       [-0.39228  , -0.25804  ,  0.       ],\n",
              "       [-0.74366  , -0.25804  ,  0.       ],\n",
              "       [-0.69758  ,  0.041667 ,  0.       ],\n",
              "       [-0.75518  ,  0.2902   ,  0.       ],\n",
              "       [-0.69758  ,  0.68494  ,  0.       ],\n",
              "       [-0.4038   ,  0.70687  ,  0.       ],\n",
              "       [-0.38076  ,  0.91886  ,  0.       ],\n",
              "       [-0.50749  ,  0.90424  ,  0.       ],\n",
              "       [-0.54781  ,  0.70687  ,  0.       ],\n",
              "       [ 0.10311  ,  0.77997  ,  0.       ],\n",
              "       [ 0.057028 ,  0.91886  ,  0.       ],\n",
              "       [-0.10426  ,  0.99196  ,  0.       ],\n",
              "       [-0.081221 ,  1.1089   ,  0.       ],\n",
              "       [ 0.28744  ,  1.087    ,  0.       ],\n",
              "       [ 0.39689  ,  0.82383  ,  0.       ],\n",
              "       [ 0.63882  ,  0.88962  ,  0.       ],\n",
              "       [ 0.82316  ,  0.66301  ,  0.       ],\n",
              "       [ 0.67339  ,  0.64108  ,  0.       ],\n",
              "       [ 1.0709   ,  0.10015  ,  0.       ],\n",
              "       [-0.046659 , -0.57968  ,  0.       ],\n",
              "       [-0.23675  , -0.63816  ,  0.       ],\n",
              "       [-0.15035  , -0.36769  ,  0.       ],\n",
              "       [-0.49021  , -0.3019   ,  0.       ],\n",
              "       [-0.46717  , -0.13377  ,  0.       ],\n",
              "       [-0.28859  , -0.060673 ,  0.       ],\n",
              "       [-0.61118  , -0.067982 ,  0.       ],\n",
              "       [-0.66302  , -0.21418  ,  0.       ],\n",
              "       [-0.59965  , -0.41886  ,  0.       ],\n",
              "       [-0.72638  , -0.082602 ,  0.       ],\n",
              "       [-0.83007  ,  0.31213  ,  0.       ],\n",
              "       [-0.72062  ,  0.53874  ,  0.       ],\n",
              "       [-0.59389  ,  0.49488  ,  0.       ],\n",
              "       [-0.48445  ,  0.99927  ,  0.       ],\n",
              "       [-0.0063364,  0.99927  ,  0.       ],\n",
              "       [ 0.63265  , -0.030612 ,  0.       ]])"
            ]
          },
          "metadata": {},
          "execution_count": 2
        }
      ]
    },
    {
      "cell_type": "code",
      "source": [
        "#plot data to visualise\n",
        "def plot_data(X,y,positive_label=\"y=1\", negative_label=\"y=0\"):\n",
        "#positive_label and negative_label refers to classes of y as y can be 0 or 1\n",
        "    positive = y == 1\n",
        "    negative = y == 0\n",
        "    plt.plot(X[positive, 0], X[positive, 1], 'k+', label=positive_label)\n",
        "    plt.plot(X[negative, 0], X[negative, 1], 'yo', label=negative_label)\n",
        "#While plotting graph the label parameter will be either positive_label or negative_label so plot both the labels for"
      ],
      "metadata": {
        "id": "Bk2qYHyk4mNm"
      },
      "execution_count": 3,
      "outputs": []
    },
    {
      "cell_type": "code",
      "source": [
        "#test\n",
        "plot_data(X_train, y_train[:], positive_label=\"Accepted\", negative_label=\"Rejected\")\n",
        "\n",
        "\n",
        "plt.xlabel('Test 2')\n",
        "plt.ylabel('Test 1')\n",
        "plt.legend(loc=\"upper right\")\n",
        "plt.show()"
      ],
      "metadata": {
        "id": "RzsMdrwv58tQ",
        "outputId": "1cbd34c9-4503-4be2-ae60-d4752774745c",
        "colab": {
          "base_uri": "https://localhost:8080/",
          "height": 449
        }
      },
      "execution_count": 4,
      "outputs": [
        {
          "output_type": "display_data",
          "data": {
            "text/plain": [
              "<Figure size 640x480 with 1 Axes>"
            ],
            "image/png": "[encoded data removed]"
          },
          "metadata": {}
        }
      ]
    },
    {
      "cell_type": "code",
      "source": [
        "#feature mapping\n",
        "def map_feature(X1,X2):\n",
        "  X1=np.atleast_1d(X1)\n",
        "  X2=np.atleast_1d(X2)\n",
        "  degree=6\n",
        "  out=[]\n",
        "  for i in range(1,degree+1):\n",
        "    for j in range(i+1):\n",
        "      out.append((X1**(i-j) * (X2**j)))\n",
        "  return np.stack(out, axis=1)"
      ],
      "metadata": {
        "id": "KhRBdaFi6nKo"
      },
      "execution_count": 5,
      "outputs": []
    },
    {
      "cell_type": "code",
      "source": [
        "print(\"Original shape of data:\", X_train.shape)\n",
        "\n",
        "mapped_X =  map_feature(X_train[:, 0], X_train[:, 1])\n",
        "print(\"Shape after feature mapping:\", mapped_X.shape)"
      ],
      "metadata": {
        "id": "PNS4kJfq6_m8",
        "outputId": "7df20df6-cd94-4fe7-b7ed-3cb4a87df6c3",
        "colab": {
          "base_uri": "https://localhost:8080/"
        }
      },
      "execution_count": 6,
      "outputs": [
        {
          "output_type": "stream",
          "name": "stdout",
          "text": [
            "Original shape of data: (118, 2)\n",
            "Shape after feature mapping: (118, 27)\n"
          ]
        }
      ]
    },
    {
      "cell_type": "code",
      "source": [
        "# @title DO NOT EDIT THIS CODE\n",
        "def sigmoid_test(target):\n",
        "    assert np.isclose(target(3.0), 0.9525741268224334), \"Failed for scalar input\"\n",
        "    assert np.allclose(target(np.array([2.5, 0])), [0.92414182, 0.5]), \"Failed for 1D array\"\n",
        "    assert np.allclose(target(np.array([[2.5, -2.5], [0, 1]])),\n",
        "                       [[0.92414182, 0.07585818], [0.5, 0.73105858]]), \"Failed for 2D array\"\n",
        "    print('\\033[92mTests passed!')"
      ],
      "metadata": {
        "id": "BqlxZOXoHh4z",
        "cellView": "form"
      },
      "execution_count": 7,
      "outputs": []
    },
    {
      "cell_type": "code",
      "source": [
        "#sigmoid function\n",
        "def sigmoid(z):\n",
        "      return 1 / (1 + np.exp(-z))\n",
        "\n",
        "\n",
        "\n"
      ],
      "metadata": {
        "id": "wdgE-ay07C0P"
      },
      "execution_count": 8,
      "outputs": []
    },
    {
      "cell_type": "code",
      "source": [
        "sigmoid_test(sigmoid)\n"
      ],
      "metadata": {
        "id": "9XOlXXyxHnmB",
        "outputId": "bd19ff2f-0674-4a02-9afb-3f015d908249",
        "colab": {
          "base_uri": "https://localhost:8080/"
        }
      },
      "execution_count": 9,
      "outputs": [
        {
          "output_type": "stream",
          "name": "stdout",
          "text": [
            "\u001b[92mTests passed!\n"
          ]
        }
      ]
    },
    {
      "cell_type": "code",
      "source": [
        "# @title DO NOT EDIT THIS CODE\n",
        "def compute_cost_test(target):\n",
        "    X = np.array([[0, 0, 0, 0]]).T\n",
        "    y = np.array([0, 0, 0, 0])\n",
        "    w = np.array([0])\n",
        "    b = 1\n",
        "    result = target(X, y, w, b)\n",
        "    if math.isinf(result):\n",
        "        raise ValueError(\"Did you get the sigmoid of z_wb?\")\n",
        "\n",
        "    np.random.seed(17)\n",
        "    X = np.random.randn(5, 2)\n",
        "    y = np.array([1, 0, 0, 1, 1])\n",
        "    w = np.random.randn(2)\n",
        "    b = 0\n",
        "    result = target(X, y, w, b)\n",
        "    assert np.isclose(result, 2.15510667), f\"Wrong output. Expected: {2.15510667} got: {result}\"\n",
        "\n",
        "    X = np.random.randn(4, 3)\n",
        "    y = np.array([1, 1, 0, 0])\n",
        "    w = np.random.randn(3)\n",
        "    b = 0\n",
        "\n",
        "    result = target(X, y, w, b)\n",
        "    assert np.isclose(result, 0.80709376), f\"Wrong output. Expected: {0.80709376} got: {result}\"\n",
        "\n",
        "    X = np.random.randn(4, 3)\n",
        "    y = np.array([1, 0,1, 0])\n",
        "    w = np.random.randn(3)\n",
        "    b = 3\n",
        "    result = target(X, y, w, b)\n",
        "    assert np.isclose(result, 0.4529660647), f\"Wrong output. Expected: {0.4529660647} got: {result}. Did you inizialized z_wb = b?\"\n",
        "\n",
        "    print('\\033[92mTests passed!')"
      ],
      "metadata": {
        "id": "QLqfyxPrH-v-",
        "cellView": "form"
      },
      "execution_count": 10,
      "outputs": []
    },
    {
      "cell_type": "code",
      "source": [
        "#computing cost\n",
        "def compute_cost(X,y,w,b,lambda_=1):\n",
        "#write your code\n",
        " m = X.shape[0]\n",
        " z = np.dot(X, w) + b\n",
        " h = sigmoid(z)\n",
        "\n",
        " total_cost = -1/m * (np.dot(y, np.log(h)) + np.dot((1 - y), np.log(1 - h)))\n",
        "\n",
        " return total_cost"
      ],
      "metadata": {
        "id": "PRIqcpJ17MzH"
      },
      "execution_count": 11,
      "outputs": []
    },
    {
      "cell_type": "code",
      "source": [
        "test_w = np.array([0.2, 0.2])\n",
        "test_b = -24.\n",
        "cost = compute_cost(X_train, y_train, test_w, test_b)\n",
        "\n",
        "print('Cost at test w,b: {:.3f}'.format(cost))\n",
        "\n",
        "\n",
        "# test\n",
        "compute_cost_test(compute_cost)"
      ],
      "metadata": {
        "id": "MPOvLzL5H5-5",
        "outputId": "7bf098f9-870a-4860-ec3b-664f3eedcb4e",
        "colab": {
          "base_uri": "https://localhost:8080/"
        }
      },
      "execution_count": 12,
      "outputs": [
        {
          "output_type": "stream",
          "name": "stdout",
          "text": [
            "Cost at test w,b: 11.777\n",
            "\u001b[92mTests passed!\n"
          ]
        }
      ]
    },
    {
      "cell_type": "code",
      "source": [
        "#compute regularised cost\n",
        "def compute_cost_reg(X, y, w, b, lambda_ = 1):\n",
        "#write your code\n",
        "  m = X.shape[0]\n",
        "  z = np.dot(X, w) + b\n",
        "  h = sigmoid(z)\n",
        "  cost = -1/m * (np.dot(y, np.log(h)) + np.dot((1 - y), np.log(1 - h)))\n",
        "  reg_cost = (lambda_ / (2 * m)) * np.sum(np.square(w))\n",
        "  total_cost = cost + reg_cost\n",
        "\n",
        "  return total_cost\n",
        "\n"
      ],
      "metadata": {
        "id": "ULkWUBkO7ffh"
      },
      "execution_count": 13,
      "outputs": []
    },
    {
      "cell_type": "code",
      "source": [
        "# @title DO NOT EDIT THIS CODE\n",
        "def compute_cost_reg_test(target):\n",
        "    np.random.seed(1)\n",
        "    w = np.random.randn(3)\n",
        "    b = 0.4\n",
        "    X = np.random.randn(6, 3)\n",
        "    y = np.array([0, 1, 1, 0, 1, 1])\n",
        "    lambda_ = 0.1\n",
        "    expected_output = target(X, y, w, b, lambda_)\n",
        "\n",
        "    assert np.isclose(expected_output, 0.5469746792761936), f\"Wrong output. Expected: {0.5469746792761936} got:{expected_output}\"\n",
        "\n",
        "    w = np.random.randn(5)\n",
        "    b = -0.6\n",
        "    X = np.random.randn(8, 5)\n",
        "    y = np.array([1, 0, 1, 0, 0, 1, 0, 1])\n",
        "    lambda_ = 0.01\n",
        "    output = target(X, y, w, b, lambda_)\n",
        "    assert np.isclose(output, 1.2608591964119995), f\"Wrong output. Expected: {1.2608591964119995} got:{output}\"\n",
        "\n",
        "    w = np.array([2, 2, 2, 2, 2])\n",
        "    b = 0\n",
        "    X = np.zeros((8, 5))\n",
        "    y = np.array([0.5] * 8)\n",
        "    lambda_ = 3\n",
        "    output = target(X, y, w, b, lambda_)\n",
        "    expected = -np.log(0.5) + 3. / (2. * 8.) * 20.\n",
        "    assert np.isclose(output, expected), f\"Wrong output. Expected: {expected} got:{output}\"\n",
        "\n",
        "    print('\\033[92mAll tests passed!')"
      ],
      "metadata": {
        "id": "OhFbPakDGKQj"
      },
      "execution_count": 14,
      "outputs": []
    },
    {
      "cell_type": "code",
      "source": [
        "X_mapped = map_feature(X_train[:, 0], X_train[:, 1])\n",
        "np.random.seed(1)\n",
        "initial_w = np.random.rand(X_mapped.shape[1]) - 0.5\n",
        "initial_b = 0.5\n",
        "lambda_ = 0.5\n",
        "cost = compute_cost_reg(X_mapped, y_train, initial_w, initial_b, lambda_)\n",
        "\n",
        "print(\"Regularised cost :\", cost)\n",
        "\n",
        "#test\n",
        "compute_cost_reg_test(compute_cost_reg)"
      ],
      "metadata": {
        "id": "jO14e7OD7syR",
        "outputId": "c6b7d8f3-a0c2-483d-8b12-25c58e5de71d",
        "colab": {
          "base_uri": "https://localhost:8080/"
        }
      },
      "execution_count": 15,
      "outputs": [
        {
          "output_type": "stream",
          "name": "stdout",
          "text": [
            "Regularised cost : 0.6618252552483949\n",
            "\u001b[92mAll tests passed!\n"
          ]
        }
      ]
    },
    {
      "cell_type": "code",
      "source": [
        "# @title DO NOT EDIT THIS CODE\n",
        "def compute_gradient_test(target):\n",
        "    np.random.seed(1)\n",
        "    X = np.random.randn(7, 3)\n",
        "    y = np.array([1, 0, 1, 0, 1, 1, 0])\n",
        "    test_w = np.array([1, 0.5, -0.35])\n",
        "    test_b = 1.7\n",
        "    dj_db, dj_dw  = target(X, y, test_w, test_b)\n",
        "\n",
        "    assert np.isclose(dj_db, 0.28936094), f\"Wrong value for dj_db. Expected: {0.28936094} got: {dj_db}\"\n",
        "    assert dj_dw.shape == test_w.shape, f\"Wrong shape for dj_dw. Expected: {test_w.shape} got: {dj_dw.shape}\"\n",
        "    assert np.allclose(dj_dw, [-0.11999166, 0.41498775, -0.71968405]), f\"Wrong values for dj_dw. Got: {dj_dw}\"\n",
        "\n",
        "    print('\\033[92mTests passed!')"
      ],
      "metadata": {
        "id": "plQBUPM2IRei",
        "cellView": "form"
      },
      "execution_count": 16,
      "outputs": []
    },
    {
      "cell_type": "code",
      "source": [
        "#compute gradient\n",
        "def compute_gradient(X, y, w, b, lambda_=None):\n",
        "#write your code\n",
        "\n",
        "   m,n = X.shape\n",
        "   z = np.dot(X, w) + b\n",
        "   h = sigmoid(z)\n",
        "   error = h - y\n",
        "   dj_dw = (1/m) * np.dot(X.T, error)\n",
        "   dj_db = (1/m) * np.sum(error)\n",
        "   return dj_db,dj_dw"
      ],
      "metadata": {
        "id": "v27SzhYX8-ug"
      },
      "execution_count": 17,
      "outputs": []
    },
    {
      "cell_type": "code",
      "source": [
        "test_w = np.array([ 0.2, -0.5])\n",
        "test_b = -24\n",
        "dj_db, dj_dw  = compute_gradient(X_train, y_train, test_w, test_b)\n",
        "\n",
        "print('dj_db at test_w:', dj_db)\n",
        "print('dj_dw at test_w:', dj_dw.tolist())\n",
        "\n",
        "# test\n",
        "compute_gradient_test(compute_gradient)"
      ],
      "metadata": {
        "id": "WLmFL2yuIPUA",
        "outputId": "2097781f-5a44-4b94-f758-93b7e0ab815c",
        "colab": {
          "base_uri": "https://localhost:8080/"
        }
      },
      "execution_count": 18,
      "outputs": [
        {
          "output_type": "stream",
          "name": "stdout",
          "text": [
            "dj_db at test_w: -0.4915254236924827\n",
            "dj_dw at test_w: [-0.008601361012465381, -0.09147300847306207]\n",
            "\u001b[92mTests passed!\n"
          ]
        }
      ]
    },
    {
      "cell_type": "code",
      "source": [
        "#compute regularised gradient\n",
        "def compute_gradient_reg(X, y, w, b, lambda_=1):\n",
        "#write your code\n",
        "    m, n = X.shape\n",
        "    z = np.dot(X, w) + b\n",
        "    h = sigmoid(z)\n",
        "    error = h - y\n",
        "    dj_dw = (1/m) * np.dot(X.T, error) + (lambda_/m) * w\n",
        "    dj_db = (1/m) * np.sum(error)\n",
        "\n",
        "    return dj_db,dj_dw"
      ],
      "metadata": {
        "id": "TGfUArz09TMl"
      },
      "execution_count": 19,
      "outputs": []
    },
    {
      "cell_type": "code",
      "source": [
        "# @title DO NOT EDIT THIS CODE\n",
        "def compute_gradient_reg_test(target):\n",
        "    np.random.seed(1)\n",
        "    w = np.random.randn(5)\n",
        "    b = 0.2\n",
        "    X = np.random.randn(7, 5)\n",
        "    y = np.array([0, 1, 1, 0, 1, 1, 0])\n",
        "    lambda_ = 0.1\n",
        "    expected1 = (-0.1506447567869257, np.array([ 0.19530838, -0.00632206,  0.19687367,  0.15741161,  0.02791437]))\n",
        "    dj_db, dj_dw = target(X, y, w, b, lambda_)\n",
        "\n",
        "    assert np.isclose(dj_db, expected1[0]), f\"Wrong dj_db. Expected: {expected1[0]} got: {dj_db}\"\n",
        "    assert np.allclose(dj_dw, expected1[1]), f\"Wrong dj_dw. Expected: {expected1[1]} got: {dj_dw}\"\n",
        "\n",
        "\n",
        "    w = np.random.randn(7)\n",
        "    b = 0\n",
        "    X = np.random.randn(7, 7)\n",
        "    y = np.array([1, 0, 0, 0, 1, 1, 0])\n",
        "    lambda_ = 0\n",
        "    expected2 = (0.02660329857573818, np.array([ 0.23567643, -0.06921029, -0.19705212, -0.0002884 ,  0.06490588,\n",
        "        0.26948175,  0.10777992]))\n",
        "    dj_db, dj_dw = target(X, y, w, b, lambda_)\n",
        "    assert np.isclose(dj_db, expected2[0]), f\"Wrong dj_db. Expected: {expected2[0]} got: {dj_db}\"\n",
        "    assert np.allclose(dj_dw, expected2[1]), f\"Wrong dj_dw. Expected: {expected2[1]} got: {dj_dw}\"\n",
        "\n",
        "    print('\\033[92mTests passed!')"
      ],
      "metadata": {
        "id": "KNRCWIc8G2cp",
        "cellView": "form"
      },
      "execution_count": 20,
      "outputs": []
    },
    {
      "cell_type": "code",
      "source": [
        "X_mapped = map_feature(X_train[:, 0], X_train[:, 1])\n",
        "np.random.seed(1)\n",
        "initial_w  = np.random.rand(X_mapped.shape[1]) - 0.5\n",
        "initial_b = 0.5\n",
        "\n",
        "lambda_ = 0.5\n",
        "dj_db, dj_dw = compute_gradient_reg(X_mapped, y_train, initial_w, initial_b, lambda_)\n",
        "\n",
        "print(f\"dj_db: {dj_db}\" )\n",
        "#test\n",
        "compute_gradient_reg_test(compute_gradient_reg)"
      ],
      "metadata": {
        "id": "3_of_BHJ9hEc",
        "outputId": "1bd14ee9-f108-4373-db22-1f2c15857731",
        "colab": {
          "base_uri": "https://localhost:8080/"
        }
      },
      "execution_count": 21,
      "outputs": [
        {
          "output_type": "stream",
          "name": "stdout",
          "text": [
            "dj_db: 0.07138288792343654\n",
            "\u001b[92mTests passed!\n"
          ]
        }
      ]
    },
    {
      "cell_type": "code",
      "source": [
        "np.random.seed(1)\n",
        "initial_w = np.random.rand(X_mapped.shape[1])-0.5\n",
        "initial_b = 1\n",
        "lambda_ = 0.01\n",
        "iterations = 1000\n",
        "alpha = 0.01\n",
        "def gradient_descent(X_mapped, y_train, initial_w, initial_b,\n",
        "                                    compute_cost_reg, compute_gradient_reg,\n",
        "                                    alpha, iterations, lambda_):\n",
        "\n",
        "#write your code\n",
        "    X_mapped = scaler.fit_transform(X_mapped)\n",
        "    w = initial_w\n",
        "    b = initial_b\n",
        "    J_history = []\n",
        "    for i in range(iterations):\n",
        "        # Compute the gradient and cost\n",
        "        dj_db, dj_dw = compute_gradient_reg(X_mapped, y_train, w, b, lambda_)\n",
        "         # Update the parameters\n",
        "        w = w - alpha * dj_dw\n",
        "        b = b - alpha * dj_db\n",
        "\n",
        "         # Save the cost J in every iteration\n",
        "        if i < 100000:  # prevent resource exhaustion\n",
        "            cost = compute_cost_reg(X_mapped, y_train, w, b, lambda_)\n",
        "            J_history.append(cost)\n",
        "\n",
        "    return w, b, J_history, _\n",
        "\n",
        "w,b, J_history,_ = gradient_descent(X_mapped, y_train, initial_w, initial_b,\n",
        "                                    compute_cost_reg, compute_gradient_reg,\n",
        "                                    alpha, iterations, lambda_)"
      ],
      "metadata": {
        "id": "c5y3Nb9Z_SC4"
      },
      "execution_count": 32,
      "outputs": []
    },
    {
      "cell_type": "code",
      "source": [
        "#plot decision boundary\n",
        "def plot_decision_boundary(w,b,X,y):\n",
        "\n",
        "    plot_data(X[:, 0:2], y)\n",
        "\n",
        "    if X.shape[1] <= 2:\n",
        "        plot_x = np.array([min(X[:, 0]), max(X[:, 0])])\n",
        "        plot_y = (-1. / w[1]) * (w[0] * plot_x + b)\n",
        "\n",
        "        plt.plot(plot_x, plot_y, c=\"b\")\n",
        "\n",
        "    else:\n",
        "        u = np.linspace(-1, 1.5, 50)\n",
        "        v = np.linspace(-1, 1.5, 50)\n",
        "\n",
        "        z = np.zeros((len(u), len(v)))\n",
        "\n",
        "\n",
        "        for i in range(len(u)):\n",
        "            for j in range(len(v)):\n",
        "                z[i,j] = sigmoid(np.dot(map_feature(u[i], v[j]), w) + b)\n",
        "\n",
        "\n",
        "        z = z.T\n",
        "\n",
        "\n",
        "        plt.contour(u,v,z, levels = [0.5], colors=\"g\")"
      ],
      "metadata": {
        "id": "cqSOrJsTAf9p"
      },
      "execution_count": 33,
      "outputs": []
    },
    {
      "cell_type": "code",
      "source": [
        "plot_decision_boundary(w, b, X_mapped, y_train)"
      ],
      "metadata": {
        "id": "etir_m_AAyYC",
        "outputId": "a128b8ff-ca4e-4e4e-e85e-99d35dca17b7",
        "colab": {
          "base_uri": "https://localhost:8080/",
          "height": 490
        }
      },
      "execution_count": 34,
      "outputs": [
        {
          "output_type": "stream",
          "name": "stderr",
          "text": [
            "<ipython-input-33-1a0f4325d43d>:21: DeprecationWarning: Conversion of an array with ndim > 0 to a scalar is deprecated, and will error in future. Ensure you extract a single element from your array before performing this operation. (Deprecated NumPy 1.25.)\n",
            "  z[i,j] = sigmoid(np.dot(map_feature(u[i], v[j]), w) + b)\n"
          ]
        },
        {
          "output_type": "display_data",
          "data": {
            "text/plain": [
              "<Figure size 640x480 with 1 Axes>"
            ],
            "image/png": "[encoded data removed]"
          },
          "metadata": {}
        }
      ]
    },
    {
      "cell_type": "code",
      "source": [
        "#predict your training model\n",
        "def predict(X, w, b):\n",
        "  m,n=X.shape\n",
        "  p=np.zeros(m)\n",
        "  #write your code\n",
        "  X = scaler.transform(X)\n",
        "  for i in range(m):\n",
        "        z_wb = np.dot(X[i], w) + b\n",
        "        p[i] = sigmoid(z_wb) >= 0.5\n",
        "\n",
        "  return p"
      ],
      "metadata": {
        "id": "MD2Dup4OA1ew"
      },
      "execution_count": 35,
      "outputs": []
    },
    {
      "cell_type": "code",
      "source": [
        "p = predict(X_mapped, w, b)\n",
        "\n",
        "print('Accuracy of training model: %f'%(np.mean(p == y_train) * 100))"
      ],
      "metadata": {
        "id": "TAhIPFIsBTjk",
        "outputId": "1ea6cdfd-43bc-414d-aa83-85706499a57c",
        "colab": {
          "base_uri": "https://localhost:8080/"
        }
      },
      "execution_count": 36,
      "outputs": [
        {
          "output_type": "stream",
          "name": "stdout",
          "text": [
            "Accuracy of training model: 82.203390\n"
          ]
        }
      ]
    }
  ]
}