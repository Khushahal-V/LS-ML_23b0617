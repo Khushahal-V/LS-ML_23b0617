{
  "nbformat": 4,
  "nbformat_minor": 0,
  "metadata": {
    "colab": {
      "provenance": []
    },
    "kernelspec": {
      "name": "python3",
      "display_name": "Python 3"
    },
    "language_info": {
      "name": "python"
    }
  },
  "cells": [
    {
      "cell_type": "code",
      "execution_count": 4,
      "metadata": {
        "id": "T-9OtNVd21ww"
      },
      "outputs": [],
      "source": [
        "import os\n",
        "import shutil\n",
        "import random"
      ]
    },
    {
      "cell_type": "code",
      "source": [
        "import zipfile\n",
        "\n",
        "import zipfile\n",
        "import os\n",
        "\n",
        "# Path to the uploaded zip file\n",
        "zip_file = '/content/homer_bart.zip'\n",
        "\n",
        "# Step 1: Unzip the uploaded file\n",
        "with zipfile.ZipFile(zip_file, 'r') as zip_ref:\n",
        "    zip_ref.extractall('/content/homer_bart')\n",
        "\n",
        "# Step 2: Verify the contents\n",
        "extracted_path = '/content/homer_bart'\n",
        "contents = os.listdir(extracted_path)\n",
        "contents\n",
        "\n",
        "\n"
      ],
      "metadata": {
        "colab": {
          "base_uri": "https://localhost:8080/"
        },
        "id": "rPQtpF5n2_zI",
        "outputId": "ae856d3f-03b5-4436-f112-ea614176b6ec"
      },
      "execution_count": 8,
      "outputs": [
        {
          "output_type": "execute_result",
          "data": {
            "text/plain": [
              "['Homer', 'Bart']"
            ]
          },
          "metadata": {},
          "execution_count": 8
        }
      ]
    },
    {
      "cell_type": "code",
      "source": [
        "import os\n",
        "\n",
        "# Path to the extracted folders\n",
        "extracted_path = '/content/homer_bart'\n",
        "\n",
        "# Initialize counters\n",
        "num_homer_images = 0\n",
        "num_bart_images = 0\n",
        "\n",
        "# Iterate through each label (subfolder)\n",
        "for label in os.listdir(extracted_path):\n",
        "    label_path = os.path.join(extracted_path, label)\n",
        "    if os.path.isdir(label_path):\n",
        "        num_images = len(os.listdir(label_path))\n",
        "        if label.lower() == 'homer':\n",
        "            num_homer_images += num_images\n",
        "        elif label.lower() == 'bart':\n",
        "            num_bart_images += num_images\n",
        "\n",
        "# Print the number of images in each category\n",
        "print(f\"Number of images in 'Homer': {num_homer_images}\")\n",
        "print(f\"Number of images in 'Bart': {num_bart_images}\")\n"
      ],
      "metadata": {
        "colab": {
          "base_uri": "https://localhost:8080/"
        },
        "id": "Aq1tbyTD_oHK",
        "outputId": "d1e75db4-15d8-4dc6-9316-a48c2c62a51b"
      },
      "execution_count": 9,
      "outputs": [
        {
          "output_type": "stream",
          "name": "stdout",
          "text": [
            "Number of images in 'Homer': 109\n",
            "Number of images in 'Bart': 160\n"
          ]
        }
      ]
    },
    {
      "cell_type": "code",
      "source": [
        "import os\n",
        "import numpy as np\n",
        "import matplotlib.pyplot as plt\n",
        "from tensorflow.keras.preprocessing.image import load_img, img_to_array, ImageDataGenerator\n",
        "from sklearn.model_selection import train_test_split\n",
        "from tensorflow.keras.models import Sequential\n",
        "from tensorflow.keras.layers import Dense, Flatten, Dropout, BatchNormalization\n",
        "from tensorflow.keras.optimizers import Adam\n",
        "\n",
        "# Preprocess the images\n",
        "def preprocess_images(image_folder, img_size=(64, 64)):\n",
        "    images = []\n",
        "    labels = []\n",
        "    for label in os.listdir(image_folder):\n",
        "        label_path = os.path.join(image_folder, label)\n",
        "        if os.path.isdir(label_path):\n",
        "            for image_file in os.listdir(label_path):\n",
        "                image_path = os.path.join(label_path, image_file)\n",
        "                image = load_img(image_path, target_size=img_size)\n",
        "                image_array = img_to_array(image) / 255.0  # Normalize pixel values\n",
        "                images.append(image_array)\n",
        "                labels.append(0 if label == 'Homer' else 1)  # 'Homer' is class 0, 'Bart' is class 1\n",
        "\n",
        "    images = np.array(images)\n",
        "    labels = np.array(labels)\n",
        "    return images, labels\n",
        "\n",
        "image_folder = '/content/homer_bart'\n",
        "images, labels = preprocess_images(image_folder)\n",
        "\n",
        "# Split the data into training and testing sets\n",
        "train_images, test_images, train_labels, test_labels = train_test_split(images, labels, test_size=0.1, random_state=42)\n",
        "\n",
        "# Data augmentation for training images\n",
        "datagen_train = ImageDataGenerator(\n",
        "    rotation_range=20,\n",
        "    width_shift_range=0.2,\n",
        "    height_shift_range=0.2,\n",
        "    shear_range=0.2,\n",
        "    zoom_range=0.2,\n",
        "    horizontal_flip=True,\n",
        "    fill_mode='nearest'\n",
        ")\n",
        "\n",
        "# Data augmentation for test images (only normalization)\n",
        "datagen_test = ImageDataGenerator()\n",
        "\n",
        "# Build the neural network model\n",
        "model = Sequential([\n",
        "    Flatten(input_shape=(64, 64, 3)),\n",
        "    BatchNormalization(momentum=0.9, epsilon=1e-5, scale=True, center=True),\n",
        "    Dropout(0.2),\n",
        "    Dense(128, activation='relu'),\n",
        "    BatchNormalization(momentum=0.9, epsilon=1e-5, scale=True, center=True),\n",
        "    Dropout(0.2),\n",
        "    Dense(64, activation='relu'),\n",
        "    BatchNormalization(momentum=0.9, epsilon=1e-5, scale=True, center=True),\n",
        "    Dense(32, activation='relu'),\n",
        "    # Dense(16, activation='relu'),\n",
        "    Dense(1, activation='sigmoid')  # Sigmoid activation for binary classification\n",
        "])\n",
        "\n",
        "# Compile the model\n",
        "model.compile(optimizer=Adam(), loss='binary_crossentropy', metrics=['accuracy'])\n",
        "\n",
        "# Train the model with data augmentation\n",
        "batch_size = 32\n",
        "train_generator = datagen_train.flow(train_images, train_labels, batch_size=batch_size)\n",
        "steps_per_epoch = train_images.shape[0] // batch_size\n",
        "\n",
        "history = model.fit(\n",
        "    train_generator,\n",
        "    steps_per_epoch=steps_per_epoch,\n",
        "    epochs=50,\n",
        "    validation_data=(datagen_test.flow(test_images, test_labels)),\n",
        "    verbose=1\n",
        ")\n",
        "\n",
        "# Evaluate the model\n",
        "test_loss, test_accuracy = model.evaluate(datagen_test.flow(test_images, test_labels))\n",
        "print(f'Test accuracy: {test_accuracy:.4f}')\n",
        "\n",
        "# Plot training and validation accuracy, and a horizontal line for the final test accuracy\n",
        "plt.plot(history.history['accuracy'], label='train_accuracy')\n",
        "plt.plot(history.history['val_accuracy'], label='val_accuracy')\n",
        "plt.axhline(y=test_accuracy, color='r', linestyle='--', label=f'test_accuracy: {test_accuracy:.4f}')\n",
        "plt.xlabel('Epoch')\n",
        "plt.ylabel('Accuracy')\n",
        "plt.ylim([0, 1])\n",
        "plt.legend(loc='lower right')\n",
        "plt.show()\n"
      ],
      "metadata": {
        "colab": {
          "base_uri": "https://localhost:8080/",
          "height": 1000
        },
        "id": "AXj5_hoqd_HG",
        "outputId": "fe914f6b-0648-4b0f-a3c9-870f5cf34fde"
      },
      "execution_count": 21,
      "outputs": [
        {
          "output_type": "stream",
          "name": "stdout",
          "text": [
            "Epoch 1/50\n",
            "7/7 [==============================] - 3s 126ms/step - loss: 0.7418 - accuracy: 0.5524 - val_loss: 0.7121 - val_accuracy: 0.5926\n",
            "Epoch 2/50\n",
            "7/7 [==============================] - 1s 87ms/step - loss: 0.6375 - accuracy: 0.6667 - val_loss: 0.6416 - val_accuracy: 0.5556\n",
            "Epoch 3/50\n",
            "7/7 [==============================] - 1s 81ms/step - loss: 0.5798 - accuracy: 0.6714 - val_loss: 0.5620 - val_accuracy: 0.6667\n",
            "Epoch 4/50\n",
            "7/7 [==============================] - 1s 89ms/step - loss: 0.5785 - accuracy: 0.7143 - val_loss: 0.4862 - val_accuracy: 0.8148\n",
            "Epoch 5/50\n",
            "7/7 [==============================] - 1s 75ms/step - loss: 0.5017 - accuracy: 0.7762 - val_loss: 0.4164 - val_accuracy: 0.8148\n",
            "Epoch 6/50\n",
            "7/7 [==============================] - 1s 84ms/step - loss: 0.5626 - accuracy: 0.7143 - val_loss: 0.3906 - val_accuracy: 0.8519\n",
            "Epoch 7/50\n",
            "7/7 [==============================] - 1s 86ms/step - loss: 0.5582 - accuracy: 0.7054 - val_loss: 0.3621 - val_accuracy: 0.8148\n",
            "Epoch 8/50\n",
            "7/7 [==============================] - 1s 85ms/step - loss: 0.5549 - accuracy: 0.7048 - val_loss: 0.3555 - val_accuracy: 0.8519\n",
            "Epoch 9/50\n",
            "7/7 [==============================] - 1s 87ms/step - loss: 0.4806 - accuracy: 0.7714 - val_loss: 0.3655 - val_accuracy: 0.8519\n",
            "Epoch 10/50\n",
            "7/7 [==============================] - 1s 85ms/step - loss: 0.5070 - accuracy: 0.7667 - val_loss: 0.3692 - val_accuracy: 0.8519\n",
            "Epoch 11/50\n",
            "7/7 [==============================] - 1s 75ms/step - loss: 0.5735 - accuracy: 0.7190 - val_loss: 0.3532 - val_accuracy: 0.7778\n",
            "Epoch 12/50\n",
            "7/7 [==============================] - 1s 81ms/step - loss: 0.5295 - accuracy: 0.7619 - val_loss: 0.3434 - val_accuracy: 0.8519\n",
            "Epoch 13/50\n",
            "7/7 [==============================] - 1s 77ms/step - loss: 0.4853 - accuracy: 0.7667 - val_loss: 0.3180 - val_accuracy: 0.8519\n",
            "Epoch 14/50\n",
            "7/7 [==============================] - 1s 95ms/step - loss: 0.5207 - accuracy: 0.7476 - val_loss: 0.2893 - val_accuracy: 0.8519\n",
            "Epoch 15/50\n",
            "7/7 [==============================] - 1s 135ms/step - loss: 0.5066 - accuracy: 0.7524 - val_loss: 0.2705 - val_accuracy: 0.9630\n",
            "Epoch 16/50\n",
            "7/7 [==============================] - 1s 133ms/step - loss: 0.5017 - accuracy: 0.8080 - val_loss: 0.2729 - val_accuracy: 0.9259\n",
            "Epoch 17/50\n",
            "7/7 [==============================] - 1s 79ms/step - loss: 0.4661 - accuracy: 0.7905 - val_loss: 0.2819 - val_accuracy: 0.9259\n",
            "Epoch 18/50\n",
            "7/7 [==============================] - 1s 83ms/step - loss: 0.4651 - accuracy: 0.7667 - val_loss: 0.2810 - val_accuracy: 0.9259\n",
            "Epoch 19/50\n",
            "7/7 [==============================] - 1s 77ms/step - loss: 0.4797 - accuracy: 0.7381 - val_loss: 0.2879 - val_accuracy: 0.8889\n",
            "Epoch 20/50\n",
            "7/7 [==============================] - 1s 74ms/step - loss: 0.5033 - accuracy: 0.7857 - val_loss: 0.2657 - val_accuracy: 0.9259\n",
            "Epoch 21/50\n",
            "7/7 [==============================] - 1s 80ms/step - loss: 0.4812 - accuracy: 0.7723 - val_loss: 0.2604 - val_accuracy: 0.8889\n",
            "Epoch 22/50\n",
            "7/7 [==============================] - 1s 75ms/step - loss: 0.4477 - accuracy: 0.7810 - val_loss: 0.2687 - val_accuracy: 0.8889\n",
            "Epoch 23/50\n",
            "7/7 [==============================] - 1s 86ms/step - loss: 0.4930 - accuracy: 0.7333 - val_loss: 0.2620 - val_accuracy: 0.9630\n",
            "Epoch 24/50\n",
            "7/7 [==============================] - 1s 91ms/step - loss: 0.4653 - accuracy: 0.7762 - val_loss: 0.2641 - val_accuracy: 0.9630\n",
            "Epoch 25/50\n",
            "7/7 [==============================] - 1s 82ms/step - loss: 0.4843 - accuracy: 0.7476 - val_loss: 0.2581 - val_accuracy: 0.9259\n",
            "Epoch 26/50\n",
            "7/7 [==============================] - 1s 80ms/step - loss: 0.4518 - accuracy: 0.7810 - val_loss: 0.2693 - val_accuracy: 0.8889\n",
            "Epoch 27/50\n",
            "7/7 [==============================] - 1s 78ms/step - loss: 0.4803 - accuracy: 0.7667 - val_loss: 0.2663 - val_accuracy: 0.8519\n",
            "Epoch 28/50\n",
            "7/7 [==============================] - 1s 101ms/step - loss: 0.4493 - accuracy: 0.7857 - val_loss: 0.2581 - val_accuracy: 0.8889\n",
            "Epoch 29/50\n",
            "7/7 [==============================] - 1s 101ms/step - loss: 0.4760 - accuracy: 0.7857 - val_loss: 0.2616 - val_accuracy: 0.8889\n",
            "Epoch 30/50\n",
            "7/7 [==============================] - 1s 96ms/step - loss: 0.4578 - accuracy: 0.7571 - val_loss: 0.2493 - val_accuracy: 0.8889\n",
            "Epoch 31/50\n",
            "7/7 [==============================] - 1s 119ms/step - loss: 0.5005 - accuracy: 0.7667 - val_loss: 0.2567 - val_accuracy: 0.8889\n",
            "Epoch 32/50\n",
            "7/7 [==============================] - 1s 166ms/step - loss: 0.4322 - accuracy: 0.7946 - val_loss: 0.2719 - val_accuracy: 0.8889\n",
            "Epoch 33/50\n",
            "7/7 [==============================] - 1s 150ms/step - loss: 0.4536 - accuracy: 0.7952 - val_loss: 0.2720 - val_accuracy: 0.8889\n",
            "Epoch 34/50\n",
            "7/7 [==============================] - 1s 162ms/step - loss: 0.5057 - accuracy: 0.7667 - val_loss: 0.2598 - val_accuracy: 0.8889\n",
            "Epoch 35/50\n",
            "7/7 [==============================] - 1s 182ms/step - loss: 0.4607 - accuracy: 0.7667 - val_loss: 0.2508 - val_accuracy: 0.9630\n",
            "Epoch 36/50\n",
            "7/7 [==============================] - 1s 123ms/step - loss: 0.4139 - accuracy: 0.8190 - val_loss: 0.2431 - val_accuracy: 0.9630\n",
            "Epoch 37/50\n",
            "7/7 [==============================] - 1s 155ms/step - loss: 0.4784 - accuracy: 0.7411 - val_loss: 0.2524 - val_accuracy: 0.9259\n",
            "Epoch 38/50\n",
            "7/7 [==============================] - 1s 81ms/step - loss: 0.4125 - accuracy: 0.7857 - val_loss: 0.2590 - val_accuracy: 0.8889\n",
            "Epoch 39/50\n",
            "7/7 [==============================] - 1s 79ms/step - loss: 0.4869 - accuracy: 0.7667 - val_loss: 0.2563 - val_accuracy: 0.9630\n",
            "Epoch 40/50\n",
            "7/7 [==============================] - 1s 81ms/step - loss: 0.4497 - accuracy: 0.8080 - val_loss: 0.2540 - val_accuracy: 0.9630\n",
            "Epoch 41/50\n",
            "7/7 [==============================] - 1s 79ms/step - loss: 0.4165 - accuracy: 0.7857 - val_loss: 0.2408 - val_accuracy: 0.9259\n",
            "Epoch 42/50\n",
            "7/7 [==============================] - 1s 87ms/step - loss: 0.4423 - accuracy: 0.7952 - val_loss: 0.2292 - val_accuracy: 0.9259\n",
            "Epoch 43/50\n",
            "7/7 [==============================] - 1s 81ms/step - loss: 0.4131 - accuracy: 0.8190 - val_loss: 0.2074 - val_accuracy: 1.0000\n",
            "Epoch 44/50\n",
            "7/7 [==============================] - 1s 79ms/step - loss: 0.4251 - accuracy: 0.7952 - val_loss: 0.1933 - val_accuracy: 0.9630\n",
            "Epoch 45/50\n",
            "7/7 [==============================] - 1s 76ms/step - loss: 0.4466 - accuracy: 0.8000 - val_loss: 0.2069 - val_accuracy: 0.9630\n",
            "Epoch 46/50\n",
            "7/7 [==============================] - 1s 87ms/step - loss: 0.3878 - accuracy: 0.8238 - val_loss: 0.2131 - val_accuracy: 0.9259\n",
            "Epoch 47/50\n",
            "7/7 [==============================] - 1s 87ms/step - loss: 0.4161 - accuracy: 0.8036 - val_loss: 0.2122 - val_accuracy: 0.9259\n",
            "Epoch 48/50\n",
            "7/7 [==============================] - 1s 78ms/step - loss: 0.4447 - accuracy: 0.7952 - val_loss: 0.2187 - val_accuracy: 0.9259\n",
            "Epoch 49/50\n",
            "7/7 [==============================] - 1s 115ms/step - loss: 0.4270 - accuracy: 0.7857 - val_loss: 0.2212 - val_accuracy: 0.9259\n",
            "Epoch 50/50\n",
            "7/7 [==============================] - 1s 135ms/step - loss: 0.3682 - accuracy: 0.8476 - val_loss: 0.2152 - val_accuracy: 0.9259\n",
            "1/1 [==============================] - 0s 72ms/step - loss: 0.2152 - accuracy: 0.9259\n",
            "Test accuracy: 0.9259\n"
          ]
        },
        {
          "output_type": "display_data",
          "data": {
            "text/plain": [
              "<Figure size 640x480 with 1 Axes>"
            ],
            "image/png": "[encoded data removed]"
          },
          "metadata": {}
        }
      ]
    }
  ]
}